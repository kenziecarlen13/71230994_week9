{
 "cells": [
  {
   "cell_type": "code",
   "execution_count": 2,
   "metadata": {},
   "outputs": [
    {
     "name": "stdout",
     "output_type": "stream",
     "text": [
      "baris ke-1 sama yaitu alpro\n",
      "\n",
      "Baris ke-2 berbeda, bedanya ada pada: logmat untuk file 1 dan mattek untuk file 2\n",
      "\n",
      "Baris ke-3 berbeda, bedanya ada pada: jarkom untuk file 1 dan imk untuk file 2\n",
      "\n",
      "baris ke-4 sama yaitu matdis\n",
      "\n",
      "Baris ke-5 berbeda, bedanya ada pada: tekkom untuk file 1 dan pkn untuk file 2\n",
      "\n"
     ]
    }
   ],
   "source": [
    "#8.1\n",
    "a = input(\"Masukkan file-1 dan format: \")\n",
    "b = input(\"Masukkan file-2 dan format: \")\n",
    "file1 = open(a, 'r').readlines()\n",
    "file2 = open(b, 'r').readlines()\n",
    "\n",
    "if file1 == file2:\n",
    "    print(\"File yang dimasukkan sama.\\n\") \n",
    "else:\n",
    "    max_lines = max(len(file1), len(file2))\n",
    "\n",
    "    for i in range(max_lines):\n",
    "        if i < len(file1) and i < len(file2):\n",
    "            if file1[i] == file2[i]:\n",
    "                print(f\"baris ke-{i+1} sama yaitu {file1[i]}\")\n",
    "            else:\n",
    "                print(f\"Baris ke-{i+1} berbeda, bedanya ada pada: {file1[i].strip()} untuk file 1 dan {file2[i].strip()} untuk file 2\\n\")\n"
   ]
  },
  {
   "cell_type": "code",
   "execution_count": 1,
   "metadata": {},
   "outputs": [
    {
     "name": "stdout",
     "output_type": "stream",
     "text": [
      "1+1 =\n",
      "Jawaban benar!\n",
      "\n",
      "Bendera Indonesia?\n",
      "Jawaban benar!\n",
      "\n",
      "Kota gudeg adalah?\n",
      "Jawaban benar!\n",
      "\n",
      "Komponen PC untuk penyimpanan file adalah?\n",
      "Jawaban benar!\n",
      "\n",
      "50 * 20 =\n",
      "Jawaban benar!\n",
      "\n"
     ]
    }
   ],
   "source": [
    "file = open(\"soal.txt\", \"r\")\n",
    "lines = file.readlines()\n",
    "for line in lines:\n",
    "    soal, jawab = line.strip().split(\"||\")\n",
    "    soal = soal.strip()\n",
    "    jawab = jawab.lower().strip()\n",
    "\n",
    "    print(soal)\n",
    "    jawab1 = input(\"Jawab: \").lower().strip()\n",
    "\n",
    "    if jawab1 == jawab:\n",
    "        print(\"Jawaban benar!\\n\")\n",
    "    else:\n",
    "        print(\"Jawaban salah!\\n\")"
   ]
  }
 ],
 "metadata": {
  "kernelspec": {
   "display_name": "base",
   "language": "python",
   "name": "python3"
  },
  "language_info": {
   "codemirror_mode": {
    "name": "ipython",
    "version": 3
   },
   "file_extension": ".py",
   "mimetype": "text/x-python",
   "name": "python",
   "nbconvert_exporter": "python",
   "pygments_lexer": "ipython3",
   "version": "3.11.5"
  }
 },
 "nbformat": 4,
 "nbformat_minor": 2
}
